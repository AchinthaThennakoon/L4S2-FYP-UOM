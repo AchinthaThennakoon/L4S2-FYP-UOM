{
 "cells": [
  {
   "cell_type": "code",
   "execution_count": 1,
   "metadata": {},
   "outputs": [],
   "source": [
    "import shutil"
   ]
  },
  {
   "cell_type": "code",
   "execution_count": 2,
   "metadata": {},
   "outputs": [],
   "source": [
    "import pandas as pd"
   ]
  },
  {
   "cell_type": "code",
   "execution_count": 15,
   "metadata": {},
   "outputs": [],
   "source": [
    "# Path to the original image\n",
    "original_image_path = '/mnt/c/Users/achin/Downloads/leaf_images/leaf_images/'\n",
    "\n",
    "# Path to the destination where you want to copy the image\n",
    "destination_path = '/mnt/c/Users/achin/Downloads/leaf_images/gray_leaf_spot/'"
   ]
  },
  {
   "cell_type": "code",
   "execution_count": 4,
   "metadata": {},
   "outputs": [],
   "source": [
    "df = pd.read_csv('/mnt/c/Users/achin/Downloads/Database.csv')"
   ]
  },
  {
   "cell_type": "code",
   "execution_count": 5,
   "metadata": {},
   "outputs": [
    {
     "data": {
      "text/html": [
       "<div>\n",
       "<style scoped>\n",
       "    .dataframe tbody tr th:only-of-type {\n",
       "        vertical-align: middle;\n",
       "    }\n",
       "\n",
       "    .dataframe tbody tr th {\n",
       "        vertical-align: top;\n",
       "    }\n",
       "\n",
       "    .dataframe thead th {\n",
       "        text-align: right;\n",
       "    }\n",
       "</style>\n",
       "<table border=\"1\" class=\"dataframe\">\n",
       "  <thead>\n",
       "    <tr style=\"text-align: right;\">\n",
       "      <th></th>\n",
       "      <th>imgID_id</th>\n",
       "      <th>filePath</th>\n",
       "      <th>GLS</th>\n",
       "      <th>NCLB</th>\n",
       "      <th>PLS</th>\n",
       "      <th>CR</th>\n",
       "      <th>SR</th>\n",
       "      <th>NoFoliarSymptoms</th>\n",
       "      <th>Other</th>\n",
       "      <th>UnidentifiedDisease</th>\n",
       "    </tr>\n",
       "  </thead>\n",
       "  <tbody>\n",
       "    <tr>\n",
       "      <th>0</th>\n",
       "      <td>1207</td>\n",
       "      <td>100_CIMG3835_1-135-2.JPG</td>\n",
       "      <td>1</td>\n",
       "      <td>0</td>\n",
       "      <td>0</td>\n",
       "      <td>0</td>\n",
       "      <td>0</td>\n",
       "      <td>0</td>\n",
       "      <td>0</td>\n",
       "      <td>0</td>\n",
       "    </tr>\n",
       "    <tr>\n",
       "      <th>1</th>\n",
       "      <td>1122</td>\n",
       "      <td>101_CIMG3836_1-49-1.JPG</td>\n",
       "      <td>1</td>\n",
       "      <td>0</td>\n",
       "      <td>0</td>\n",
       "      <td>0</td>\n",
       "      <td>0</td>\n",
       "      <td>0</td>\n",
       "      <td>0</td>\n",
       "      <td>0</td>\n",
       "    </tr>\n",
       "    <tr>\n",
       "      <th>2</th>\n",
       "      <td>1168</td>\n",
       "      <td>102_CIMG3837_1-49-2.JPG</td>\n",
       "      <td>1</td>\n",
       "      <td>0</td>\n",
       "      <td>0</td>\n",
       "      <td>0</td>\n",
       "      <td>0</td>\n",
       "      <td>0</td>\n",
       "      <td>0</td>\n",
       "      <td>0</td>\n",
       "    </tr>\n",
       "    <tr>\n",
       "      <th>3</th>\n",
       "      <td>1013</td>\n",
       "      <td>103_CIMG3838_1-43-1.JPG</td>\n",
       "      <td>1</td>\n",
       "      <td>0</td>\n",
       "      <td>0</td>\n",
       "      <td>0</td>\n",
       "      <td>0</td>\n",
       "      <td>0</td>\n",
       "      <td>0</td>\n",
       "      <td>0</td>\n",
       "    </tr>\n",
       "    <tr>\n",
       "      <th>4</th>\n",
       "      <td>1214</td>\n",
       "      <td>104_CIMG3839_1-43-2.JPG</td>\n",
       "      <td>1</td>\n",
       "      <td>0</td>\n",
       "      <td>0</td>\n",
       "      <td>0</td>\n",
       "      <td>0</td>\n",
       "      <td>0</td>\n",
       "      <td>0</td>\n",
       "      <td>0</td>\n",
       "    </tr>\n",
       "  </tbody>\n",
       "</table>\n",
       "</div>"
      ],
      "text/plain": [
       "   imgID_id                  filePath  GLS  NCLB  PLS  CR  SR  \\\n",
       "0      1207  100_CIMG3835_1-135-2.JPG    1     0    0   0   0   \n",
       "1      1122   101_CIMG3836_1-49-1.JPG    1     0    0   0   0   \n",
       "2      1168   102_CIMG3837_1-49-2.JPG    1     0    0   0   0   \n",
       "3      1013   103_CIMG3838_1-43-1.JPG    1     0    0   0   0   \n",
       "4      1214   104_CIMG3839_1-43-2.JPG    1     0    0   0   0   \n",
       "\n",
       "   NoFoliarSymptoms  Other  UnidentifiedDisease  \n",
       "0                 0      0                    0  \n",
       "1                 0      0                    0  \n",
       "2                 0      0                    0  \n",
       "3                 0      0                    0  \n",
       "4                 0      0                    0  "
      ]
     },
     "execution_count": 5,
     "metadata": {},
     "output_type": "execute_result"
    }
   ],
   "source": [
    "df.head(5)"
   ]
  },
  {
   "cell_type": "code",
   "execution_count": 17,
   "metadata": {},
   "outputs": [],
   "source": [
    "for index,row in df.iterrows():\n",
    "    if( row['GLS']==1 and row['NCLB'] == 0 and row['PLS'] == 0 and row['CR'] == 0 and row['SR'] == 0 and row['NoFoliarSymptoms'] == 0 and row['Other'] == 0 and row['UnidentifiedDisease'] == 0 ):\n",
    "        img_file_path = original_image_path + row['filePath']\n",
    "        new_img_file_path = destination_path + row['filePath']\n",
    "        shutil.copyfile(img_file_path, new_img_file_path)\n",
    "    "
   ]
  },
  {
   "cell_type": "code",
   "execution_count": null,
   "metadata": {},
   "outputs": [],
   "source": []
  }
 ],
 "metadata": {
  "kernelspec": {
   "display_name": "Python 3 (ipykernel)",
   "language": "python",
   "name": "python3"
  },
  "language_info": {
   "codemirror_mode": {
    "name": "ipython",
    "version": 3
   },
   "file_extension": ".py",
   "mimetype": "text/x-python",
   "name": "python",
   "nbconvert_exporter": "python",
   "pygments_lexer": "ipython3",
   "version": "3.10.14"
  }
 },
 "nbformat": 4,
 "nbformat_minor": 2
}
