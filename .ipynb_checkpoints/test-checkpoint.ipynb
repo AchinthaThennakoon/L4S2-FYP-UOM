{
 "cells": [
  {
   "cell_type": "code",
   "execution_count": null,
   "id": "04e2fe3d",
   "metadata": {},
   "outputs": [
    {
     "name": "stdout",
     "output_type": "stream",
     "text": [
      "Defaulting to user installation because normal site-packages is not writeable\n",
      "Requirement already satisfied: tensorflow[and-cuda] in /home/achintha/.local/lib/python3.10/site-packages (2.16.1)\n",
      "Requirement already satisfied: h5py>=3.10.0 in /home/achintha/.local/lib/python3.10/site-packages (from tensorflow[and-cuda]) (3.11.0)\n",
      "Requirement already satisfied: tensorflow-io-gcs-filesystem>=0.23.1 in /home/achintha/.local/lib/python3.10/site-packages (from tensorflow[and-cuda]) (0.37.0)\n",
      "Requirement already satisfied: packaging in /usr/lib/python3/dist-packages (from tensorflow[and-cuda]) (21.3)\n",
      "Requirement already satisfied: ml-dtypes~=0.3.1 in /home/achintha/.local/lib/python3.10/site-packages (from tensorflow[and-cuda]) (0.3.2)\n",
      "Requirement already satisfied: setuptools in /usr/lib/python3/dist-packages (from tensorflow[and-cuda]) (59.6.0)\n",
      "Requirement already satisfied: absl-py>=1.0.0 in /home/achintha/.local/lib/python3.10/site-packages (from tensorflow[and-cuda]) (2.1.0)\n",
      "Requirement already satisfied: numpy<2.0.0,>=1.23.5 in /home/achintha/.local/lib/python3.10/site-packages (from tensorflow[and-cuda]) (1.26.4)\n",
      "Requirement already satisfied: libclang>=13.0.0 in /home/achintha/.local/lib/python3.10/site-packages (from tensorflow[and-cuda]) (18.1.1)\n",
      "Requirement already satisfied: typing-extensions>=3.6.6 in /home/achintha/.local/lib/python3.10/site-packages (from tensorflow[and-cuda]) (4.11.0)\n",
      "Requirement already satisfied: protobuf!=4.21.0,!=4.21.1,!=4.21.2,!=4.21.3,!=4.21.4,!=4.21.5,<5.0.0dev,>=3.20.3 in /home/achintha/.local/lib/python3.10/site-packages (from tensorflow[and-cuda]) (4.25.3)\n",
      "Requirement already satisfied: gast!=0.5.0,!=0.5.1,!=0.5.2,>=0.2.1 in /home/achintha/.local/lib/python3.10/site-packages (from tensorflow[and-cuda]) (0.5.4)\n",
      "Requirement already satisfied: flatbuffers>=23.5.26 in /home/achintha/.local/lib/python3.10/site-packages (from tensorflow[and-cuda]) (24.3.25)\n",
      "Requirement already satisfied: six>=1.12.0 in /usr/lib/python3/dist-packages (from tensorflow[and-cuda]) (1.16.0)\n",
      "Requirement already satisfied: termcolor>=1.1.0 in /home/achintha/.local/lib/python3.10/site-packages (from tensorflow[and-cuda]) (2.4.0)\n",
      "Requirement already satisfied: google-pasta>=0.1.1 in /home/achintha/.local/lib/python3.10/site-packages (from tensorflow[and-cuda]) (0.2.0)\n",
      "Requirement already satisfied: requests<3,>=2.21.0 in /home/achintha/.local/lib/python3.10/site-packages (from tensorflow[and-cuda]) (2.31.0)\n",
      "Requirement already satisfied: wrapt>=1.11.0 in /home/achintha/.local/lib/python3.10/site-packages (from tensorflow[and-cuda]) (1.16.0)\n",
      "Requirement already satisfied: tensorboard<2.17,>=2.16 in /home/achintha/.local/lib/python3.10/site-packages (from tensorflow[and-cuda]) (2.16.2)\n",
      "Requirement already satisfied: opt-einsum>=2.3.2 in /home/achintha/.local/lib/python3.10/site-packages (from tensorflow[and-cuda]) (3.3.0)\n",
      "Requirement already satisfied: astunparse>=1.6.0 in /home/achintha/.local/lib/python3.10/site-packages (from tensorflow[and-cuda]) (1.6.3)\n",
      "Requirement already satisfied: keras>=3.0.0 in /home/achintha/.local/lib/python3.10/site-packages (from tensorflow[and-cuda]) (3.3.3)\n",
      "Requirement already satisfied: grpcio<2.0,>=1.24.3 in /home/achintha/.local/lib/python3.10/site-packages (from tensorflow[and-cuda]) (1.63.0)\n",
      "Collecting nvidia-nvjitlink-cu12==12.3.101\n",
      "  Downloading nvidia_nvjitlink_cu12-12.3.101-py3-none-manylinux1_x86_64.whl (20.5 MB)\n",
      "\u001b[2K     \u001b[90m━━━━━━━━━━━━━━━━━━━━━━━━━━━━━━━━━━━━━━━━\u001b[0m \u001b[32m20.5/20.5 MB\u001b[0m \u001b[31m2.6 MB/s\u001b[0m eta \u001b[36m0:00:00\u001b[0m00:01\u001b[0m00:01\u001b[0m\n",
      "\u001b[?25hCollecting nvidia-cuda-runtime-cu12==12.3.101\n",
      "  Downloading nvidia_cuda_runtime_cu12-12.3.101-py3-none-manylinux1_x86_64.whl (867 kB)\n",
      "\u001b[2K     \u001b[90m━━━━━━━━━━━━━━━━━━━━━━━━━━━━━━━━━━━━━━━\u001b[0m \u001b[32m867.7/867.7 KB\u001b[0m \u001b[31m6.5 MB/s\u001b[0m eta \u001b[36m0:00:00\u001b[0ma \u001b[36m0:00:01\u001b[0m\n",
      "\u001b[?25hCollecting nvidia-cublas-cu12==12.3.4.1\n",
      "  Downloading nvidia_cublas_cu12-12.3.4.1-py3-none-manylinux1_x86_64.whl (412.6 MB)\n",
      "\u001b[2K     \u001b[91m━━━━━━━━━━\u001b[0m\u001b[91m╸\u001b[0m\u001b[90m━━━━━━━━━━━━━━━━━━━━━━━━━━━━\u001b[0m \u001b[32m112.5/412.6 MB\u001b[0m \u001b[31m2.7 MB/s\u001b[0m eta \u001b[36m0:01:51\u001b[0m"
     ]
    }
   ],
   "source": [
    "pip install tensorflow[and-cuda]"
   ]
  },
  {
   "cell_type": "code",
   "execution_count": 1,
   "id": "9fde0cc9",
   "metadata": {},
   "outputs": [
    {
     "name": "stderr",
     "output_type": "stream",
     "text": [
      "2024-05-13 19:07:13.423906: I external/local_tsl/tsl/cuda/cudart_stub.cc:32] Could not find cuda drivers on your machine, GPU will not be used.\n",
      "2024-05-13 19:07:13.530260: I external/local_tsl/tsl/cuda/cudart_stub.cc:32] Could not find cuda drivers on your machine, GPU will not be used.\n",
      "2024-05-13 19:07:13.952127: I tensorflow/core/platform/cpu_feature_guard.cc:210] This TensorFlow binary is optimized to use available CPU instructions in performance-critical operations.\n",
      "To enable the following instructions: AVX2 FMA, in other operations, rebuild TensorFlow with the appropriate compiler flags.\n",
      "2024-05-13 19:07:15.260748: W tensorflow/compiler/tf2tensorrt/utils/py_utils.cc:38] TF-TRT Warning: Could not find TensorRT\n",
      "/usr/lib/python3/dist-packages/scipy/__init__.py:146: UserWarning: A NumPy version >=1.17.3 and <1.25.0 is required for this version of SciPy (detected version 1.26.4\n",
      "  warnings.warn(f\"A NumPy version >={np_minversion} and <{np_maxversion}\"\n"
     ]
    }
   ],
   "source": [
    "import tensorflow as tf"
   ]
  }
 ],
 "metadata": {
  "kernelspec": {
   "display_name": "Python 3 (ipykernel)",
   "language": "python",
   "name": "python3"
  },
  "language_info": {
   "codemirror_mode": {
    "name": "ipython",
    "version": 3
   },
   "file_extension": ".py",
   "mimetype": "text/x-python",
   "name": "python",
   "nbconvert_exporter": "python",
   "pygments_lexer": "ipython3",
   "version": "3.10.12"
  }
 },
 "nbformat": 4,
 "nbformat_minor": 5
}
